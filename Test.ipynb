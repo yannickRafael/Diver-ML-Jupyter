{
 "cells": [
  {
   "cell_type": "code",
   "execution_count": 1,
   "id": "a9c0a129-f659-41e5-beca-e381e877e549",
   "metadata": {},
   "outputs": [
    {
     "name": "stdout",
     "output_type": "stream",
     "text": [
      "2\n"
     ]
    }
   ],
   "source": [
    "print(1+1)"
   ]
  },
  {
   "cell_type": "code",
   "execution_count": null,
   "id": "81504fad-ccd6-4b2b-b8ff-559709b9bdb2",
   "metadata": {},
   "outputs": [],
   "source": [
    "# Markdownとは\n",
    "\n",
    "## ゴール\n",
    "- **MarkDownとはなにかを理解し、記述できるようになる**\n",
    "\n",
    "## Markdownとはなにか\n",
    "\n",
    "Markdown（マークダウン）とは、文書を記述するためのマークアップ言語の1つです。\n",
    "マークアップ言語とは、テキストを構造化するための言語のことです。タグや記号を使ってテキストに目印をつけることによって、人間だけでなくコンピュータでもテキストの構造を認識できるようにします。\n",
    "\n",
    "身近なマークアップ言語の1つとしてHTMLがありますが、HTMLのマークアップはタグの種類も多く覚えるまでにある程度の時間を要します。それに対し、MarkdownはHTMLをさらに簡略化したマークアップ言語であることから、覚えやすく手軽に利用できます。\n",
    "\n",
    "## なぜMarkdownを学ぶのか\n",
    "\n",
    "Markdownは、元々テキスト形式で書いた文書からHTMLを生成するために開発されました。しかし、近年ではHTMLに留まらず、PDFやその他さまざまなファイル形式への変換にも対応しています。また、GitHubやStackOverFlowなど多くのサービスにおいてもMarkdownが採用されています。\n",
    "\n",
    "Markdownはプログラミングに限らずさまざまな場面で利用されているため、是非この機会に身に付けておきましょう。ディープロにおいてもMarkdownが利用できる機能が豊富に用意されていますので、利用する際は積極的にMarkdownを活用しましょう。"
   ]
  },
  {
   "cell_type": "code",
   "execution_count": null,
   "id": "c25e5f1f-6f1e-4ce0-b9a1-3538f30412e2",
   "metadata": {},
   "outputs": [],
   "source": []
  }
 ],
 "metadata": {
  "kernelspec": {
   "display_name": "Python 3 (ipykernel)",
   "language": "python",
   "name": "python3"
  },
  "language_info": {
   "codemirror_mode": {
    "name": "ipython",
    "version": 3
   },
   "file_extension": ".py",
   "mimetype": "text/x-python",
   "name": "python",
   "nbconvert_exporter": "python",
   "pygments_lexer": "ipython3",
   "version": "3.10.12"
  }
 },
 "nbformat": 4,
 "nbformat_minor": 5
}
